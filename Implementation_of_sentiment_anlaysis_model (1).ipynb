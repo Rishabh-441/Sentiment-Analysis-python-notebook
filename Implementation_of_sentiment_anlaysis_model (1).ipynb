{
  "nbformat": 4,
  "nbformat_minor": 0,
  "metadata": {
    "colab": {
      "provenance": []
    },
    "kernelspec": {
      "name": "python3",
      "display_name": "Python 3"
    },
    "language_info": {
      "name": "python"
    }
  },
  "cells": [
    {
      "cell_type": "code",
      "source": [
        "!pip install keras\n",
        "!pip install tensorflow"
      ],
      "metadata": {
        "colab": {
          "base_uri": "https://localhost:8080/"
        },
        "id": "upiEKpnNnzQT",
        "outputId": "5b3a4f80-f7bf-4b06-f590-585c5652bab1"
      },
      "execution_count": 52,
      "outputs": [
        {
          "output_type": "stream",
          "name": "stdout",
          "text": [
            "Requirement already satisfied: keras in /usr/local/lib/python3.10/dist-packages (3.5.0)\n",
            "Requirement already satisfied: absl-py in /usr/local/lib/python3.10/dist-packages (from keras) (1.4.0)\n",
            "Requirement already satisfied: numpy in /usr/local/lib/python3.10/dist-packages (from keras) (1.26.4)\n",
            "Requirement already satisfied: rich in /usr/local/lib/python3.10/dist-packages (from keras) (13.9.4)\n",
            "Requirement already satisfied: namex in /usr/local/lib/python3.10/dist-packages (from keras) (0.0.8)\n",
            "Requirement already satisfied: h5py in /usr/local/lib/python3.10/dist-packages (from keras) (3.12.1)\n",
            "Requirement already satisfied: optree in /usr/local/lib/python3.10/dist-packages (from keras) (0.13.1)\n",
            "Requirement already satisfied: ml-dtypes in /usr/local/lib/python3.10/dist-packages (from keras) (0.4.1)\n",
            "Requirement already satisfied: packaging in /usr/local/lib/python3.10/dist-packages (from keras) (24.2)\n",
            "Requirement already satisfied: typing-extensions>=4.5.0 in /usr/local/lib/python3.10/dist-packages (from optree->keras) (4.12.2)\n",
            "Requirement already satisfied: markdown-it-py>=2.2.0 in /usr/local/lib/python3.10/dist-packages (from rich->keras) (3.0.0)\n",
            "Requirement already satisfied: pygments<3.0.0,>=2.13.0 in /usr/local/lib/python3.10/dist-packages (from rich->keras) (2.18.0)\n",
            "Requirement already satisfied: mdurl~=0.1 in /usr/local/lib/python3.10/dist-packages (from markdown-it-py>=2.2.0->rich->keras) (0.1.2)\n",
            "Requirement already satisfied: tensorflow in /usr/local/lib/python3.10/dist-packages (2.17.1)\n",
            "Requirement already satisfied: absl-py>=1.0.0 in /usr/local/lib/python3.10/dist-packages (from tensorflow) (1.4.0)\n",
            "Requirement already satisfied: astunparse>=1.6.0 in /usr/local/lib/python3.10/dist-packages (from tensorflow) (1.6.3)\n",
            "Requirement already satisfied: flatbuffers>=24.3.25 in /usr/local/lib/python3.10/dist-packages (from tensorflow) (24.3.25)\n",
            "Requirement already satisfied: gast!=0.5.0,!=0.5.1,!=0.5.2,>=0.2.1 in /usr/local/lib/python3.10/dist-packages (from tensorflow) (0.6.0)\n",
            "Requirement already satisfied: google-pasta>=0.1.1 in /usr/local/lib/python3.10/dist-packages (from tensorflow) (0.2.0)\n",
            "Requirement already satisfied: h5py>=3.10.0 in /usr/local/lib/python3.10/dist-packages (from tensorflow) (3.12.1)\n",
            "Requirement already satisfied: libclang>=13.0.0 in /usr/local/lib/python3.10/dist-packages (from tensorflow) (18.1.1)\n",
            "Requirement already satisfied: ml-dtypes<0.5.0,>=0.3.1 in /usr/local/lib/python3.10/dist-packages (from tensorflow) (0.4.1)\n",
            "Requirement already satisfied: opt-einsum>=2.3.2 in /usr/local/lib/python3.10/dist-packages (from tensorflow) (3.4.0)\n",
            "Requirement already satisfied: packaging in /usr/local/lib/python3.10/dist-packages (from tensorflow) (24.2)\n",
            "Requirement already satisfied: protobuf!=4.21.0,!=4.21.1,!=4.21.2,!=4.21.3,!=4.21.4,!=4.21.5,<5.0.0dev,>=3.20.3 in /usr/local/lib/python3.10/dist-packages (from tensorflow) (4.25.5)\n",
            "Requirement already satisfied: requests<3,>=2.21.0 in /usr/local/lib/python3.10/dist-packages (from tensorflow) (2.32.3)\n",
            "Requirement already satisfied: setuptools in /usr/local/lib/python3.10/dist-packages (from tensorflow) (75.1.0)\n",
            "Requirement already satisfied: six>=1.12.0 in /usr/local/lib/python3.10/dist-packages (from tensorflow) (1.17.0)\n",
            "Requirement already satisfied: termcolor>=1.1.0 in /usr/local/lib/python3.10/dist-packages (from tensorflow) (2.5.0)\n",
            "Requirement already satisfied: typing-extensions>=3.6.6 in /usr/local/lib/python3.10/dist-packages (from tensorflow) (4.12.2)\n",
            "Requirement already satisfied: wrapt>=1.11.0 in /usr/local/lib/python3.10/dist-packages (from tensorflow) (1.17.0)\n",
            "Requirement already satisfied: grpcio<2.0,>=1.24.3 in /usr/local/lib/python3.10/dist-packages (from tensorflow) (1.68.1)\n",
            "Requirement already satisfied: tensorboard<2.18,>=2.17 in /usr/local/lib/python3.10/dist-packages (from tensorflow) (2.17.1)\n",
            "Requirement already satisfied: keras>=3.2.0 in /usr/local/lib/python3.10/dist-packages (from tensorflow) (3.5.0)\n",
            "Requirement already satisfied: tensorflow-io-gcs-filesystem>=0.23.1 in /usr/local/lib/python3.10/dist-packages (from tensorflow) (0.37.1)\n",
            "Requirement already satisfied: numpy<2.0.0,>=1.23.5 in /usr/local/lib/python3.10/dist-packages (from tensorflow) (1.26.4)\n",
            "Requirement already satisfied: wheel<1.0,>=0.23.0 in /usr/local/lib/python3.10/dist-packages (from astunparse>=1.6.0->tensorflow) (0.45.1)\n",
            "Requirement already satisfied: rich in /usr/local/lib/python3.10/dist-packages (from keras>=3.2.0->tensorflow) (13.9.4)\n",
            "Requirement already satisfied: namex in /usr/local/lib/python3.10/dist-packages (from keras>=3.2.0->tensorflow) (0.0.8)\n",
            "Requirement already satisfied: optree in /usr/local/lib/python3.10/dist-packages (from keras>=3.2.0->tensorflow) (0.13.1)\n",
            "Requirement already satisfied: charset-normalizer<4,>=2 in /usr/local/lib/python3.10/dist-packages (from requests<3,>=2.21.0->tensorflow) (3.4.0)\n",
            "Requirement already satisfied: idna<4,>=2.5 in /usr/local/lib/python3.10/dist-packages (from requests<3,>=2.21.0->tensorflow) (3.10)\n",
            "Requirement already satisfied: urllib3<3,>=1.21.1 in /usr/local/lib/python3.10/dist-packages (from requests<3,>=2.21.0->tensorflow) (2.2.3)\n",
            "Requirement already satisfied: certifi>=2017.4.17 in /usr/local/lib/python3.10/dist-packages (from requests<3,>=2.21.0->tensorflow) (2024.12.14)\n",
            "Requirement already satisfied: markdown>=2.6.8 in /usr/local/lib/python3.10/dist-packages (from tensorboard<2.18,>=2.17->tensorflow) (3.7)\n",
            "Requirement already satisfied: tensorboard-data-server<0.8.0,>=0.7.0 in /usr/local/lib/python3.10/dist-packages (from tensorboard<2.18,>=2.17->tensorflow) (0.7.2)\n",
            "Requirement already satisfied: werkzeug>=1.0.1 in /usr/local/lib/python3.10/dist-packages (from tensorboard<2.18,>=2.17->tensorflow) (3.1.3)\n",
            "Requirement already satisfied: MarkupSafe>=2.1.1 in /usr/local/lib/python3.10/dist-packages (from werkzeug>=1.0.1->tensorboard<2.18,>=2.17->tensorflow) (3.0.2)\n",
            "Requirement already satisfied: markdown-it-py>=2.2.0 in /usr/local/lib/python3.10/dist-packages (from rich->keras>=3.2.0->tensorflow) (3.0.0)\n",
            "Requirement already satisfied: pygments<3.0.0,>=2.13.0 in /usr/local/lib/python3.10/dist-packages (from rich->keras>=3.2.0->tensorflow) (2.18.0)\n",
            "Requirement already satisfied: mdurl~=0.1 in /usr/local/lib/python3.10/dist-packages (from markdown-it-py>=2.2.0->rich->keras>=3.2.0->tensorflow) (0.1.2)\n"
          ]
        }
      ]
    },
    {
      "cell_type": "code",
      "source": [
        "import numpy as np\n",
        "import pandas as pd\n",
        "import re\n",
        "import pickle\n",
        "import os\n",
        "import nltk\n",
        "from nltk.corpus import stopwords\n",
        "from textblob import Word\n",
        "from tensorflow.keras.preprocessing.text import Tokenizer\n",
        "from tensorflow.keras.preprocessing.sequence import pad_sequences\n",
        "from tensorflow.keras.activations import softmax # Import softmax"
      ],
      "metadata": {
        "id": "dEoedx8-mcq0"
      },
      "execution_count": 45,
      "outputs": []
    },
    {
      "cell_type": "code",
      "source": [
        "import nltk\n",
        "nltk.download('wordnet')\n",
        "nltk.download('omw-1.4')  # For multilingual WordNet support\n",
        "nltk.download('punkt')"
      ],
      "metadata": {
        "colab": {
          "base_uri": "https://localhost:8080/"
        },
        "id": "L3vdUf0inRxz",
        "outputId": "f906405d-d66d-4ebd-ea7b-224b8e87eb77"
      },
      "execution_count": 46,
      "outputs": [
        {
          "output_type": "stream",
          "name": "stderr",
          "text": [
            "[nltk_data] Downloading package wordnet to /root/nltk_data...\n",
            "[nltk_data]   Package wordnet is already up-to-date!\n",
            "[nltk_data] Downloading package omw-1.4 to /root/nltk_data...\n",
            "[nltk_data]   Package omw-1.4 is already up-to-date!\n",
            "[nltk_data] Downloading package punkt to /root/nltk_data...\n",
            "[nltk_data]   Package punkt is already up-to-date!\n"
          ]
        },
        {
          "output_type": "execute_result",
          "data": {
            "text/plain": [
              "True"
            ]
          },
          "metadata": {},
          "execution_count": 46
        }
      ]
    },
    {
      "cell_type": "code",
      "source": [
        "pip install -U textblob"
      ],
      "metadata": {
        "colab": {
          "base_uri": "https://localhost:8080/"
        },
        "id": "q0ZAPvKxnKsQ",
        "outputId": "691ba5e2-3324-4369-fc54-32ad34597ee9"
      },
      "execution_count": 47,
      "outputs": [
        {
          "output_type": "stream",
          "name": "stdout",
          "text": [
            "Requirement already satisfied: textblob in /usr/local/lib/python3.10/dist-packages (0.18.0.post0)\n",
            "Requirement already satisfied: nltk>=3.8 in /usr/local/lib/python3.10/dist-packages (from textblob) (3.9.1)\n",
            "Requirement already satisfied: click in /usr/local/lib/python3.10/dist-packages (from nltk>=3.8->textblob) (8.1.7)\n",
            "Requirement already satisfied: joblib in /usr/local/lib/python3.10/dist-packages (from nltk>=3.8->textblob) (1.4.2)\n",
            "Requirement already satisfied: regex>=2021.8.3 in /usr/local/lib/python3.10/dist-packages (from nltk>=3.8->textblob) (2024.11.6)\n",
            "Requirement already satisfied: tqdm in /usr/local/lib/python3.10/dist-packages (from nltk>=3.8->textblob) (4.67.1)\n"
          ]
        }
      ]
    },
    {
      "cell_type": "code",
      "source": [
        "!python -m textblob.download_corpora"
      ],
      "metadata": {
        "colab": {
          "base_uri": "https://localhost:8080/"
        },
        "id": "-66icVQvnOfh",
        "outputId": "ff815f3b-4ee8-4cf8-bdec-3672ea679b33"
      },
      "execution_count": 48,
      "outputs": [
        {
          "output_type": "stream",
          "name": "stdout",
          "text": [
            "[nltk_data] Downloading package brown to /root/nltk_data...\n",
            "[nltk_data]   Package brown is already up-to-date!\n",
            "[nltk_data] Downloading package punkt to /root/nltk_data...\n",
            "[nltk_data]   Package punkt is already up-to-date!\n",
            "[nltk_data] Downloading package wordnet to /root/nltk_data...\n",
            "[nltk_data]   Package wordnet is already up-to-date!\n",
            "[nltk_data] Downloading package averaged_perceptron_tagger to\n",
            "[nltk_data]     /root/nltk_data...\n",
            "[nltk_data]   Package averaged_perceptron_tagger is already up-to-\n",
            "[nltk_data]       date!\n",
            "[nltk_data] Downloading package conll2000 to /root/nltk_data...\n",
            "[nltk_data]   Package conll2000 is already up-to-date!\n",
            "[nltk_data] Downloading package movie_reviews to /root/nltk_data...\n",
            "[nltk_data]   Package movie_reviews is already up-to-date!\n",
            "Finished.\n"
          ]
        }
      ]
    },
    {
      "cell_type": "code",
      "source": [
        "nltk.download('stopwords')\n",
        "stop_words = stopwords.words('english')"
      ],
      "metadata": {
        "colab": {
          "base_uri": "https://localhost:8080/"
        },
        "id": "L6QagYgTnXYe",
        "outputId": "42e6547e-cc27-4533-9853-40808020e3c5"
      },
      "execution_count": 49,
      "outputs": [
        {
          "output_type": "stream",
          "name": "stderr",
          "text": [
            "[nltk_data] Downloading package stopwords to /root/nltk_data...\n",
            "[nltk_data]   Package stopwords is already up-to-date!\n"
          ]
        }
      ]
    },
    {
      "cell_type": "code",
      "source": [
        "file_path = '/content/test.ft.txt'  # Update this with the correct file path\n",
        "with open(file_path, 'r', encoding='utf-8') as file:\n",
        "    lines = file.readlines()\n",
        "\n",
        "# Process the data to extract labels and reviews\n",
        "data = []\n",
        "for line in lines:\n",
        "    # Match the pattern: __label__ followed by a number and review text\n",
        "    match = re.match(r\"(__label__\\d)\\s(.+)\", line.strip())\n",
        "    if match:\n",
        "        label = match.group(1)  # Extract the label\n",
        "        review = match.group(2)  # Extract the review text\n",
        "        data.append([label, review])\n",
        "\n",
        "# Convert the data into a DataFrame\n",
        "df = pd.DataFrame(data, columns=['Label', 'Review'])\n",
        "df = df[:150000]\n"
      ],
      "metadata": {
        "id": "yQjolK4-mcoC"
      },
      "execution_count": 51,
      "outputs": []
    },
    {
      "cell_type": "code",
      "source": [
        "df.head()"
      ],
      "metadata": {
        "colab": {
          "base_uri": "https://localhost:8080/",
          "height": 206
        },
        "id": "I79aNaKTn8Oh",
        "outputId": "3c44c773-fc3a-4249-b61a-deae9bd9ee79"
      },
      "execution_count": 53,
      "outputs": [
        {
          "output_type": "execute_result",
          "data": {
            "text/plain": [
              "        Label                                             Review\n",
              "0  __label__2  Great CD: My lovely Pat has one of the GREAT v...\n",
              "1  __label__2  One of the best game music soundtracks - for a...\n",
              "2  __label__1  Batteries died within a year ...: I bought thi...\n",
              "3  __label__2  works fine, but Maha Energy is better: Check o...\n",
              "4  __label__2  Great for the non-audiophile: Reviewed quite a..."
            ],
            "text/html": [
              "\n",
              "  <div id=\"df-62d46830-f627-49e7-b905-93a6b9ade6ca\" class=\"colab-df-container\">\n",
              "    <div>\n",
              "<style scoped>\n",
              "    .dataframe tbody tr th:only-of-type {\n",
              "        vertical-align: middle;\n",
              "    }\n",
              "\n",
              "    .dataframe tbody tr th {\n",
              "        vertical-align: top;\n",
              "    }\n",
              "\n",
              "    .dataframe thead th {\n",
              "        text-align: right;\n",
              "    }\n",
              "</style>\n",
              "<table border=\"1\" class=\"dataframe\">\n",
              "  <thead>\n",
              "    <tr style=\"text-align: right;\">\n",
              "      <th></th>\n",
              "      <th>Label</th>\n",
              "      <th>Review</th>\n",
              "    </tr>\n",
              "  </thead>\n",
              "  <tbody>\n",
              "    <tr>\n",
              "      <th>0</th>\n",
              "      <td>__label__2</td>\n",
              "      <td>Great CD: My lovely Pat has one of the GREAT v...</td>\n",
              "    </tr>\n",
              "    <tr>\n",
              "      <th>1</th>\n",
              "      <td>__label__2</td>\n",
              "      <td>One of the best game music soundtracks - for a...</td>\n",
              "    </tr>\n",
              "    <tr>\n",
              "      <th>2</th>\n",
              "      <td>__label__1</td>\n",
              "      <td>Batteries died within a year ...: I bought thi...</td>\n",
              "    </tr>\n",
              "    <tr>\n",
              "      <th>3</th>\n",
              "      <td>__label__2</td>\n",
              "      <td>works fine, but Maha Energy is better: Check o...</td>\n",
              "    </tr>\n",
              "    <tr>\n",
              "      <th>4</th>\n",
              "      <td>__label__2</td>\n",
              "      <td>Great for the non-audiophile: Reviewed quite a...</td>\n",
              "    </tr>\n",
              "  </tbody>\n",
              "</table>\n",
              "</div>\n",
              "    <div class=\"colab-df-buttons\">\n",
              "\n",
              "  <div class=\"colab-df-container\">\n",
              "    <button class=\"colab-df-convert\" onclick=\"convertToInteractive('df-62d46830-f627-49e7-b905-93a6b9ade6ca')\"\n",
              "            title=\"Convert this dataframe to an interactive table.\"\n",
              "            style=\"display:none;\">\n",
              "\n",
              "  <svg xmlns=\"http://www.w3.org/2000/svg\" height=\"24px\" viewBox=\"0 -960 960 960\">\n",
              "    <path d=\"M120-120v-720h720v720H120Zm60-500h600v-160H180v160Zm220 220h160v-160H400v160Zm0 220h160v-160H400v160ZM180-400h160v-160H180v160Zm440 0h160v-160H620v160ZM180-180h160v-160H180v160Zm440 0h160v-160H620v160Z\"/>\n",
              "  </svg>\n",
              "    </button>\n",
              "\n",
              "  <style>\n",
              "    .colab-df-container {\n",
              "      display:flex;\n",
              "      gap: 12px;\n",
              "    }\n",
              "\n",
              "    .colab-df-convert {\n",
              "      background-color: #E8F0FE;\n",
              "      border: none;\n",
              "      border-radius: 50%;\n",
              "      cursor: pointer;\n",
              "      display: none;\n",
              "      fill: #1967D2;\n",
              "      height: 32px;\n",
              "      padding: 0 0 0 0;\n",
              "      width: 32px;\n",
              "    }\n",
              "\n",
              "    .colab-df-convert:hover {\n",
              "      background-color: #E2EBFA;\n",
              "      box-shadow: 0px 1px 2px rgba(60, 64, 67, 0.3), 0px 1px 3px 1px rgba(60, 64, 67, 0.15);\n",
              "      fill: #174EA6;\n",
              "    }\n",
              "\n",
              "    .colab-df-buttons div {\n",
              "      margin-bottom: 4px;\n",
              "    }\n",
              "\n",
              "    [theme=dark] .colab-df-convert {\n",
              "      background-color: #3B4455;\n",
              "      fill: #D2E3FC;\n",
              "    }\n",
              "\n",
              "    [theme=dark] .colab-df-convert:hover {\n",
              "      background-color: #434B5C;\n",
              "      box-shadow: 0px 1px 3px 1px rgba(0, 0, 0, 0.15);\n",
              "      filter: drop-shadow(0px 1px 2px rgba(0, 0, 0, 0.3));\n",
              "      fill: #FFFFFF;\n",
              "    }\n",
              "  </style>\n",
              "\n",
              "    <script>\n",
              "      const buttonEl =\n",
              "        document.querySelector('#df-62d46830-f627-49e7-b905-93a6b9ade6ca button.colab-df-convert');\n",
              "      buttonEl.style.display =\n",
              "        google.colab.kernel.accessAllowed ? 'block' : 'none';\n",
              "\n",
              "      async function convertToInteractive(key) {\n",
              "        const element = document.querySelector('#df-62d46830-f627-49e7-b905-93a6b9ade6ca');\n",
              "        const dataTable =\n",
              "          await google.colab.kernel.invokeFunction('convertToInteractive',\n",
              "                                                    [key], {});\n",
              "        if (!dataTable) return;\n",
              "\n",
              "        const docLinkHtml = 'Like what you see? Visit the ' +\n",
              "          '<a target=\"_blank\" href=https://colab.research.google.com/notebooks/data_table.ipynb>data table notebook</a>'\n",
              "          + ' to learn more about interactive tables.';\n",
              "        element.innerHTML = '';\n",
              "        dataTable['output_type'] = 'display_data';\n",
              "        await google.colab.output.renderOutput(dataTable, element);\n",
              "        const docLink = document.createElement('div');\n",
              "        docLink.innerHTML = docLinkHtml;\n",
              "        element.appendChild(docLink);\n",
              "      }\n",
              "    </script>\n",
              "  </div>\n",
              "\n",
              "\n",
              "<div id=\"df-902a1c3a-ffa5-4f39-bff0-a49eacb1722e\">\n",
              "  <button class=\"colab-df-quickchart\" onclick=\"quickchart('df-902a1c3a-ffa5-4f39-bff0-a49eacb1722e')\"\n",
              "            title=\"Suggest charts\"\n",
              "            style=\"display:none;\">\n",
              "\n",
              "<svg xmlns=\"http://www.w3.org/2000/svg\" height=\"24px\"viewBox=\"0 0 24 24\"\n",
              "     width=\"24px\">\n",
              "    <g>\n",
              "        <path d=\"M19 3H5c-1.1 0-2 .9-2 2v14c0 1.1.9 2 2 2h14c1.1 0 2-.9 2-2V5c0-1.1-.9-2-2-2zM9 17H7v-7h2v7zm4 0h-2V7h2v10zm4 0h-2v-4h2v4z\"/>\n",
              "    </g>\n",
              "</svg>\n",
              "  </button>\n",
              "\n",
              "<style>\n",
              "  .colab-df-quickchart {\n",
              "      --bg-color: #E8F0FE;\n",
              "      --fill-color: #1967D2;\n",
              "      --hover-bg-color: #E2EBFA;\n",
              "      --hover-fill-color: #174EA6;\n",
              "      --disabled-fill-color: #AAA;\n",
              "      --disabled-bg-color: #DDD;\n",
              "  }\n",
              "\n",
              "  [theme=dark] .colab-df-quickchart {\n",
              "      --bg-color: #3B4455;\n",
              "      --fill-color: #D2E3FC;\n",
              "      --hover-bg-color: #434B5C;\n",
              "      --hover-fill-color: #FFFFFF;\n",
              "      --disabled-bg-color: #3B4455;\n",
              "      --disabled-fill-color: #666;\n",
              "  }\n",
              "\n",
              "  .colab-df-quickchart {\n",
              "    background-color: var(--bg-color);\n",
              "    border: none;\n",
              "    border-radius: 50%;\n",
              "    cursor: pointer;\n",
              "    display: none;\n",
              "    fill: var(--fill-color);\n",
              "    height: 32px;\n",
              "    padding: 0;\n",
              "    width: 32px;\n",
              "  }\n",
              "\n",
              "  .colab-df-quickchart:hover {\n",
              "    background-color: var(--hover-bg-color);\n",
              "    box-shadow: 0 1px 2px rgba(60, 64, 67, 0.3), 0 1px 3px 1px rgba(60, 64, 67, 0.15);\n",
              "    fill: var(--button-hover-fill-color);\n",
              "  }\n",
              "\n",
              "  .colab-df-quickchart-complete:disabled,\n",
              "  .colab-df-quickchart-complete:disabled:hover {\n",
              "    background-color: var(--disabled-bg-color);\n",
              "    fill: var(--disabled-fill-color);\n",
              "    box-shadow: none;\n",
              "  }\n",
              "\n",
              "  .colab-df-spinner {\n",
              "    border: 2px solid var(--fill-color);\n",
              "    border-color: transparent;\n",
              "    border-bottom-color: var(--fill-color);\n",
              "    animation:\n",
              "      spin 1s steps(1) infinite;\n",
              "  }\n",
              "\n",
              "  @keyframes spin {\n",
              "    0% {\n",
              "      border-color: transparent;\n",
              "      border-bottom-color: var(--fill-color);\n",
              "      border-left-color: var(--fill-color);\n",
              "    }\n",
              "    20% {\n",
              "      border-color: transparent;\n",
              "      border-left-color: var(--fill-color);\n",
              "      border-top-color: var(--fill-color);\n",
              "    }\n",
              "    30% {\n",
              "      border-color: transparent;\n",
              "      border-left-color: var(--fill-color);\n",
              "      border-top-color: var(--fill-color);\n",
              "      border-right-color: var(--fill-color);\n",
              "    }\n",
              "    40% {\n",
              "      border-color: transparent;\n",
              "      border-right-color: var(--fill-color);\n",
              "      border-top-color: var(--fill-color);\n",
              "    }\n",
              "    60% {\n",
              "      border-color: transparent;\n",
              "      border-right-color: var(--fill-color);\n",
              "    }\n",
              "    80% {\n",
              "      border-color: transparent;\n",
              "      border-right-color: var(--fill-color);\n",
              "      border-bottom-color: var(--fill-color);\n",
              "    }\n",
              "    90% {\n",
              "      border-color: transparent;\n",
              "      border-bottom-color: var(--fill-color);\n",
              "    }\n",
              "  }\n",
              "</style>\n",
              "\n",
              "  <script>\n",
              "    async function quickchart(key) {\n",
              "      const quickchartButtonEl =\n",
              "        document.querySelector('#' + key + ' button');\n",
              "      quickchartButtonEl.disabled = true;  // To prevent multiple clicks.\n",
              "      quickchartButtonEl.classList.add('colab-df-spinner');\n",
              "      try {\n",
              "        const charts = await google.colab.kernel.invokeFunction(\n",
              "            'suggestCharts', [key], {});\n",
              "      } catch (error) {\n",
              "        console.error('Error during call to suggestCharts:', error);\n",
              "      }\n",
              "      quickchartButtonEl.classList.remove('colab-df-spinner');\n",
              "      quickchartButtonEl.classList.add('colab-df-quickchart-complete');\n",
              "    }\n",
              "    (() => {\n",
              "      let quickchartButtonEl =\n",
              "        document.querySelector('#df-902a1c3a-ffa5-4f39-bff0-a49eacb1722e button');\n",
              "      quickchartButtonEl.style.display =\n",
              "        google.colab.kernel.accessAllowed ? 'block' : 'none';\n",
              "    })();\n",
              "  </script>\n",
              "</div>\n",
              "\n",
              "    </div>\n",
              "  </div>\n"
            ],
            "application/vnd.google.colaboratory.intrinsic+json": {
              "type": "dataframe",
              "variable_name": "df"
            }
          },
          "metadata": {},
          "execution_count": 53
        }
      ]
    },
    {
      "cell_type": "code",
      "source": [
        "def cleaning(df, stop_words):\n",
        "    # Convert to lowercase and split\n",
        "    df['Review'] = df['Review'].apply(lambda x: ' '.join(x.lower() for x in x.split()))\n",
        "\n",
        "    # Replacing special characters\n",
        "    df['Review'] = df['Review'].str.replace('[^a-zA-Z\\s]', '', regex=True)  # Keep only letters and spaces\n",
        "\n",
        "    # Replacing digits/numbers\n",
        "    df['Review'] = df['Review'].str.replace(r'\\d+', '', regex=True)  # Remove all digits\n",
        "\n",
        "    # Removing stop words\n",
        "    df['Review'] = df['Review'].apply(lambda x: ' '.join(x for x in x.split() if x not in stop_words))\n",
        "\n",
        "    # Lemmatization\n",
        "    df['Review'] = df['Review'].apply(lambda x: ' '.join([Word(word).lemmatize() for word in x.split()]))\n",
        "\n",
        "    return df\n",
        "\n",
        "# Apply cleaning function\n",
        "df = cleaning(df, stop_words)\n"
      ],
      "metadata": {
        "id": "-qXlotj8mck5"
      },
      "execution_count": 54,
      "outputs": []
    },
    {
      "cell_type": "code",
      "source": [
        "tokenizer = Tokenizer(num_words=10000, split=' ')\n",
        "tokenizer.fit_on_texts(df['Review'].values)"
      ],
      "metadata": {
        "id": "tnwD6-IFmchv"
      },
      "execution_count": 55,
      "outputs": []
    },
    {
      "cell_type": "code",
      "source": [
        "\n",
        "file_path = 'my_sentiment_model.pkl'  # Replace with your pickle file path\n",
        "file_size = os.path.getsize(file_path)\n",
        "\n",
        "print(f\"The size of '{file_path}' is: {file_size} bytes\")"
      ],
      "metadata": {
        "colab": {
          "base_uri": "https://localhost:8080/"
        },
        "id": "Y2j-SHFZeBPr",
        "outputId": "879022ae-a0ba-40cf-d7cb-ab52cffa7424"
      },
      "execution_count": 56,
      "outputs": [
        {
          "output_type": "stream",
          "name": "stdout",
          "text": [
            "The size of 'my_sentiment_model.pkl' is: 602968601 bytes\n"
          ]
        }
      ]
    },
    {
      "cell_type": "code",
      "source": [
        "!md5sum my_sentiment_model.pkl"
      ],
      "metadata": {
        "colab": {
          "base_uri": "https://localhost:8080/"
        },
        "id": "NGl2GEKydjL6",
        "outputId": "55982658-7166-445a-d791-23f50a79d8e2"
      },
      "execution_count": 57,
      "outputs": [
        {
          "output_type": "stream",
          "name": "stdout",
          "text": [
            "96f77109f6b1c3717766e35d2a2b15e3  my_sentiment_model.pkl\n"
          ]
        }
      ]
    },
    {
      "cell_type": "code",
      "source": [
        "with open('my_sentiment_model.pkl', 'rb') as file:\n",
        "  model = pickle.load(file)"
      ],
      "metadata": {
        "id": "SudkAh6vdBEQ"
      },
      "execution_count": 58,
      "outputs": []
    },
    {
      "cell_type": "code",
      "source": [
        "def modifyReviews(reviews_array):\n",
        "    \"\"\"\n",
        "    Preprocesses an array of input reviews to match the format used during training.\n",
        "\n",
        "    Args:\n",
        "        reviews_array (list): A list of reviews to be preprocessed.\n",
        "\n",
        "    Returns:\n",
        "        numpy.ndarray: The preprocessed reviews as a padded sequence.\n",
        "    \"\"\"\n",
        "    import re # Import the re module for regular expression operations\n",
        "\n",
        "    processed_reviews = []\n",
        "    for review in reviews_array:\n",
        "        # Convert to lowercase and split\n",
        "        review = ' '.join(review.lower() for review in review.split())\n",
        "\n",
        "        # Replacing special characters using re.sub()\n",
        "        review = re.sub('[^a-zA-Z\\s]', '', review)  # Keep only letters and spaces\n",
        "\n",
        "        # Replacing digits/numbers using re.sub()\n",
        "        review = re.sub(r'\\d+', '', review)  # Remove all digits\n",
        "\n",
        "        # Removing stop words\n",
        "        review = ' '.join(review for review in review.split() if review not in stop_words)\n",
        "\n",
        "        # Lemmatization\n",
        "        review = ' '.join([Word(word).lemmatize() for word in review.split()])\n",
        "\n",
        "        processed_reviews.append(review)\n",
        "\n",
        "    # Convert to sequence and pad\n",
        "    X = tokenizer.texts_to_sequences(processed_reviews)\n",
        "    X = pad_sequences(X, maxlen=103)\n",
        "\n",
        "    return X"
      ],
      "metadata": {
        "id": "0YoAy-NziFq0"
      },
      "execution_count": 61,
      "outputs": []
    },
    {
      "cell_type": "code",
      "source": [
        "new_reviews = [\n",
        "    \"This product is absolutely amazing! I love it.\",\n",
        "    \"I'm so disappointed with this purchase. It's terrible.\",\n",
        "    \"It's okay, nothing special.\",\n",
        "    \"The quality is great, but the price is a bit high.\",\n",
        "    \"I would highly recommend this to anyone.\",\n",
        "    \"Worst product ever! Don't waste your money.\",\n",
        "    \"This is a game-changer. I'm so impressed.\",\n",
        "    \"It's pretty good, but could be better.\",\n",
        "    \"I'm on the fence about this one. It has its pros and cons.\",\n",
        "    \"This is a must-have for everyone!\",\n",
        "    \"I had such high hopes, but it let me down.\",\n",
        "    \"It's decent, but I've seen better.\",\n",
        "    \"This is the best thing I've ever bought.\",\n",
        "    \"I wouldn't buy this again.\",\n",
        "    \"It's not bad, but not great either.\",\n",
        "    \"I'm completely satisfied with this product.\",\n",
        "    \"This is a total rip-off.\",\n",
        "    \"It's worth every penny.\",\n",
        "    \"I'm so glad I made this purchase.\",\n",
        "    \"This is a huge waste of time and money.\",\n",
        "    \"It's a good value for the price.\",\n",
        "    \"I'm not sure if I like it or not.\",\n",
        "    \"This is a hidden gem.\",\n",
        "    \"I'm indifferent to this product.\",\n",
        "    \"This is a life-saver!\",\n",
        "    \"It's a mixed bag.\",\n",
        "    \"I'm pleasantly surprised by how good this is.\",\n",
        "    \"This is a complete disaster.\",\n",
        "    \"It's a solid product.\",\n",
        "    \"I'm not impressed at all.\",\n",
        "    \"This is a great addition to my collection.\",\n",
        "    \"It's not what I expected.\",\n",
        "    \"This is a game-changer for me.\",\n",
        "    \"I'm hesitant to recommend this.\",\n",
        "    \"This is a must-buy!\",\n",
        "    \"It's a bit underwhelming.\",\n",
        "    \"I'm blown away by how good this is.\",\n",
        "    \"This is a complete waste of money.\",\n",
        "    \"It's a decent product, but nothing special.\",\n",
        "    \"I'm very happy with my purchase.\",\n",
        "    \"This is a total disappointment.\",\n",
        "    \"It's a good product overall.\",\n",
        "    \"I'm not sure if I would recommend this.\",\n",
        "    \"This is a great find!\",\n",
        "    \"It's a bit overpriced.\",\n",
        "    \"I'm extremely satisfied with this product.\",\n",
        "    \"This is a terrible product.\",\n",
        "    \"It's a good value for money.\",\n",
        "    \"I'm not a fan of this product.\",\n",
        "    \"This is a great product for the price.\",\n",
        "    \"It's not worth the money.\",\n",
        "    \"This is a fantastic product!\",\n",
        "    \"I'm very disappointed with this product.\",\n",
        "    \"It's an okay product.\",\n",
        "    \"I'm not sure what to think of this product.\",\n",
        "    \"This is a great product overall.\",\n",
        "    \"It's not bad for the price.\",\n",
        "    \"This is a decent product.\",\n",
        "    \"I'm not sure if I would buy this again.\",\n",
        "    \"This is a good product.\",\n",
        "    \"It's not the best product.\",\n",
        "    \"This is a great product!\",\n",
        "    \"I'm very happy with this product.\",\n",
        "]"
      ],
      "metadata": {
        "id": "HSBG7IUajTKl"
      },
      "execution_count": 80,
      "outputs": []
    },
    {
      "cell_type": "code",
      "source": [
        "\n",
        "# Preprocess the reviews array using modifyReviews function\n",
        "processed_reviews = modifyReviews(new_reviews)\n",
        "\n",
        "# Make predictions using your model\n",
        "predictions = model.predict(processed_reviews)\n",
        "# Apply softmax to the predictions\n",
        "predictions = softmax(predictions).numpy() # Apply softmax and convert to numpy array\n",
        "\n",
        "print(predictions)\n",
        "# Classify reviews with neutral category\n",
        "neutral_range = 0.1  # Adjust this range as needed\n",
        "classified_reviews = []\n",
        "for i, prediction in enumerate(predictions):\n",
        "    diff = abs(prediction[1] - prediction[0])  # Difference between positive and negative\n",
        "    if diff <= neutral_range:\n",
        "        sentiment = \"Neutral\"\n",
        "    elif prediction[1] > prediction[0]:\n",
        "        sentiment = \"Good\"\n",
        "    else:\n",
        "        sentiment = \"Not Good\"\n",
        "    classified_reviews.append((i + 1, sentiment))\n",
        "\n",
        "# Print classified reviews\n",
        "print(\"Classified Reviews:\")\n",
        "for review_num, sentiment in classified_reviews:\n",
        "    print(f\"Review {review_num}: {sentiment}\")\n",
        "\n"
      ],
      "metadata": {
        "colab": {
          "base_uri": "https://localhost:8080/"
        },
        "id": "kf4wNhuKdBKY",
        "outputId": "5466c0b6-6a84-4c30-9a3a-ec5154882cb4"
      },
      "execution_count": 83,
      "outputs": [
        {
          "output_type": "stream",
          "name": "stdout",
          "text": [
            "\u001b[1m2/2\u001b[0m \u001b[32m━━━━━━━━━━━━━━━━━━━━\u001b[0m\u001b[37m\u001b[0m \u001b[1m0s\u001b[0m 79ms/step\n",
            "[[0.5164011  0.48359886]\n",
            " [0.5136472  0.4863528 ]\n",
            " [0.73105836 0.26894167]\n",
            " [0.28734273 0.7126573 ]\n",
            " [0.4200413  0.57995874]\n",
            " [0.2755241  0.7244759 ]\n",
            " [0.28248587 0.71751416]\n",
            " [0.27093968 0.7290603 ]\n",
            " [0.2700614  0.7299386 ]\n",
            " [0.28513774 0.7148623 ]\n",
            " [0.29477006 0.7052298 ]\n",
            " [0.7305067  0.26949328]\n",
            " [0.28333744 0.7166626 ]\n",
            " [0.69753766 0.30246222]\n",
            " [0.29100266 0.7089973 ]\n",
            " [0.7310578  0.26894218]\n",
            " [0.7307942  0.26920587]\n",
            " [0.27424374 0.7257563 ]\n",
            " [0.7309455  0.26905447]\n",
            " [0.306577   0.69342303]\n",
            " [0.27294052 0.72705936]\n",
            " [0.291683   0.708317  ]\n",
            " [0.28566948 0.71433043]\n",
            " [0.35217217 0.64782786]\n",
            " [0.27028826 0.7297117 ]\n",
            " [0.36161563 0.6383845 ]\n",
            " [0.2693133  0.7306866 ]\n",
            " [0.27431267 0.7256872 ]\n",
            " [0.4309026  0.56909734]\n",
            " [0.28248587 0.71751416]\n",
            " [0.26917472 0.7308253 ]\n",
            " [0.6499324  0.3500676 ]\n",
            " [0.53631943 0.46368068]\n",
            " [0.31912988 0.68087006]\n",
            " [0.53631943 0.46368068]\n",
            " [0.72291344 0.27708662]\n",
            " [0.27192554 0.72807443]\n",
            " [0.3604945  0.63950557]\n",
            " [0.7310559  0.26894405]\n",
            " [0.44748577 0.5525142 ]\n",
            " [0.73097503 0.26902497]\n",
            " [0.2689836  0.73101634]\n",
            " [0.5853648  0.41463515]\n",
            " [0.26894918 0.73105085]\n",
            " [0.6883954  0.31160453]\n",
            " [0.7306322  0.26936772]\n",
            " [0.7176938  0.28230625]\n",
            " [0.27369103 0.726309  ]\n",
            " [0.27955037 0.7204496 ]\n",
            " [0.26895377 0.73104626]\n",
            " [0.28598428 0.7140157 ]\n",
            " [0.36101162 0.6389883 ]\n",
            " [0.27043173 0.7295682 ]\n",
            " [0.73105836 0.2689416 ]\n",
            " [0.44681135 0.5531887 ]\n",
            " [0.26894212 0.7310578 ]\n",
            " [0.7282961  0.2717039 ]\n",
            " [0.73057437 0.26942563]\n",
            " [0.39149547 0.6085045 ]\n",
            " [0.26924795 0.73075205]\n",
            " [0.26901743 0.73098254]\n",
            " [0.26894197 0.73105794]\n",
            " [0.5376337  0.46236628]]\n",
            "Classified Reviews:\n",
            "Review 1: Neutral\n",
            "Review 2: Neutral\n",
            "Review 3: Not Good\n",
            "Review 4: Good\n",
            "Review 5: Good\n",
            "Review 6: Good\n",
            "Review 7: Good\n",
            "Review 8: Good\n",
            "Review 9: Good\n",
            "Review 10: Good\n",
            "Review 11: Good\n",
            "Review 12: Not Good\n",
            "Review 13: Good\n",
            "Review 14: Not Good\n",
            "Review 15: Good\n",
            "Review 16: Not Good\n",
            "Review 17: Not Good\n",
            "Review 18: Good\n",
            "Review 19: Not Good\n",
            "Review 20: Good\n",
            "Review 21: Good\n",
            "Review 22: Good\n",
            "Review 23: Good\n",
            "Review 24: Good\n",
            "Review 25: Good\n",
            "Review 26: Good\n",
            "Review 27: Good\n",
            "Review 28: Good\n",
            "Review 29: Good\n",
            "Review 30: Good\n",
            "Review 31: Good\n",
            "Review 32: Not Good\n",
            "Review 33: Neutral\n",
            "Review 34: Good\n",
            "Review 35: Neutral\n",
            "Review 36: Not Good\n",
            "Review 37: Good\n",
            "Review 38: Good\n",
            "Review 39: Not Good\n",
            "Review 40: Good\n",
            "Review 41: Not Good\n",
            "Review 42: Good\n",
            "Review 43: Not Good\n",
            "Review 44: Good\n",
            "Review 45: Not Good\n",
            "Review 46: Not Good\n",
            "Review 47: Not Good\n",
            "Review 48: Good\n",
            "Review 49: Good\n",
            "Review 50: Good\n",
            "Review 51: Good\n",
            "Review 52: Good\n",
            "Review 53: Good\n",
            "Review 54: Not Good\n",
            "Review 55: Good\n",
            "Review 56: Good\n",
            "Review 57: Not Good\n",
            "Review 58: Not Good\n",
            "Review 59: Good\n",
            "Review 60: Good\n",
            "Review 61: Good\n",
            "Review 62: Good\n",
            "Review 63: Neutral\n"
          ]
        }
      ]
    },
    {
      "cell_type": "code",
      "source": [
        "# Rank reviews based on positive sentiment probability\n",
        "ranked_reviews = sorted(\n",
        "    [(i, prediction[1]) for i, prediction in enumerate(predictions)],\n",
        "    key=lambda item: item[1],\n",
        "    reverse=True,  # Sort in descending order (highest probability first)\n",
        ")\n",
        "\n",
        "# Print ranked reviews\n",
        "print(\"Ranked Reviews (from most good to least):\")\n",
        "for rank, (index, probability) in enumerate(ranked_reviews):\n",
        "    print(f\"Rank {rank + 1}: Review {index + 1} (Probability: {probability:.2f})\")"
      ],
      "metadata": {
        "colab": {
          "base_uri": "https://localhost:8080/"
        },
        "id": "BM1TAzcgjT7H",
        "outputId": "e7d22319-ccb9-4f67-ecaa-192350a92c63"
      },
      "execution_count": 82,
      "outputs": [
        {
          "output_type": "stream",
          "name": "stdout",
          "text": [
            "Ranked Reviews (from most good to least):\n",
            "Rank 1: Review 62 (Probability: 0.73)\n",
            "Rank 2: Review 56 (Probability: 0.73)\n",
            "Rank 3: Review 44 (Probability: 0.73)\n",
            "Rank 4: Review 50 (Probability: 0.73)\n",
            "Rank 5: Review 42 (Probability: 0.73)\n",
            "Rank 6: Review 61 (Probability: 0.73)\n",
            "Rank 7: Review 31 (Probability: 0.73)\n",
            "Rank 8: Review 60 (Probability: 0.73)\n",
            "Rank 9: Review 27 (Probability: 0.73)\n",
            "Rank 10: Review 9 (Probability: 0.73)\n",
            "Rank 11: Review 25 (Probability: 0.73)\n",
            "Rank 12: Review 53 (Probability: 0.73)\n",
            "Rank 13: Review 8 (Probability: 0.73)\n",
            "Rank 14: Review 37 (Probability: 0.73)\n",
            "Rank 15: Review 21 (Probability: 0.73)\n",
            "Rank 16: Review 48 (Probability: 0.73)\n",
            "Rank 17: Review 18 (Probability: 0.73)\n",
            "Rank 18: Review 28 (Probability: 0.73)\n",
            "Rank 19: Review 6 (Probability: 0.72)\n",
            "Rank 20: Review 49 (Probability: 0.72)\n",
            "Rank 21: Review 7 (Probability: 0.72)\n",
            "Rank 22: Review 30 (Probability: 0.72)\n",
            "Rank 23: Review 13 (Probability: 0.72)\n",
            "Rank 24: Review 10 (Probability: 0.71)\n",
            "Rank 25: Review 23 (Probability: 0.71)\n",
            "Rank 26: Review 51 (Probability: 0.71)\n",
            "Rank 27: Review 4 (Probability: 0.71)\n",
            "Rank 28: Review 15 (Probability: 0.71)\n",
            "Rank 29: Review 22 (Probability: 0.71)\n",
            "Rank 30: Review 11 (Probability: 0.71)\n",
            "Rank 31: Review 20 (Probability: 0.69)\n",
            "Rank 32: Review 34 (Probability: 0.68)\n",
            "Rank 33: Review 24 (Probability: 0.65)\n",
            "Rank 34: Review 38 (Probability: 0.64)\n",
            "Rank 35: Review 52 (Probability: 0.64)\n",
            "Rank 36: Review 26 (Probability: 0.64)\n",
            "Rank 37: Review 59 (Probability: 0.61)\n",
            "Rank 38: Review 5 (Probability: 0.58)\n",
            "Rank 39: Review 29 (Probability: 0.57)\n",
            "Rank 40: Review 55 (Probability: 0.55)\n",
            "Rank 41: Review 40 (Probability: 0.55)\n",
            "Rank 42: Review 2 (Probability: 0.49)\n",
            "Rank 43: Review 1 (Probability: 0.48)\n",
            "Rank 44: Review 33 (Probability: 0.46)\n",
            "Rank 45: Review 35 (Probability: 0.46)\n",
            "Rank 46: Review 63 (Probability: 0.46)\n",
            "Rank 47: Review 43 (Probability: 0.41)\n",
            "Rank 48: Review 32 (Probability: 0.35)\n",
            "Rank 49: Review 45 (Probability: 0.31)\n",
            "Rank 50: Review 14 (Probability: 0.30)\n",
            "Rank 51: Review 47 (Probability: 0.28)\n",
            "Rank 52: Review 36 (Probability: 0.28)\n",
            "Rank 53: Review 57 (Probability: 0.27)\n",
            "Rank 54: Review 12 (Probability: 0.27)\n",
            "Rank 55: Review 58 (Probability: 0.27)\n",
            "Rank 56: Review 46 (Probability: 0.27)\n",
            "Rank 57: Review 17 (Probability: 0.27)\n",
            "Rank 58: Review 19 (Probability: 0.27)\n",
            "Rank 59: Review 41 (Probability: 0.27)\n",
            "Rank 60: Review 39 (Probability: 0.27)\n",
            "Rank 61: Review 16 (Probability: 0.27)\n",
            "Rank 62: Review 3 (Probability: 0.27)\n",
            "Rank 63: Review 54 (Probability: 0.27)\n"
          ]
        }
      ]
    },
    {
      "cell_type": "code",
      "source": [],
      "metadata": {
        "id": "5k-KDYdEdBM-"
      },
      "execution_count": null,
      "outputs": []
    },
    {
      "cell_type": "code",
      "source": [],
      "metadata": {
        "id": "793B5EWldBPw"
      },
      "execution_count": null,
      "outputs": []
    },
    {
      "cell_type": "code",
      "source": [],
      "metadata": {
        "id": "PShWurKfdBSU"
      },
      "execution_count": null,
      "outputs": []
    },
    {
      "cell_type": "code",
      "source": [],
      "metadata": {
        "id": "wuOl0TNKdBVf"
      },
      "execution_count": null,
      "outputs": []
    },
    {
      "cell_type": "code",
      "source": [],
      "metadata": {
        "id": "4wrJnVrMdBYX"
      },
      "execution_count": null,
      "outputs": []
    },
    {
      "cell_type": "code",
      "source": [],
      "metadata": {
        "id": "cnArgA7hdBbY"
      },
      "execution_count": null,
      "outputs": []
    },
    {
      "cell_type": "code",
      "source": [],
      "metadata": {
        "id": "dzMnmYS2dBeQ"
      },
      "execution_count": null,
      "outputs": []
    }
  ]
}